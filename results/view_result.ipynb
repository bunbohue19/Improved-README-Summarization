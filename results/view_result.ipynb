{
 "cells": [
  {
   "cell_type": "code",
   "execution_count": 15,
   "metadata": {},
   "outputs": [],
   "source": [
    "import pandas as pd\n",
    "\n",
    "t5_small_df = pd.read_csv('updated_results_t5-small_.csv', usecols=['readme', 'prediction', 'description', 'ROUGE-1', 'ROUGE-2', 'ROUGE-L', 'ROUGE-LSUM', 'SIDE_baseline', 'SIDE_hard_negatives']).dropna()\n",
    "t5_base_df = pd.read_csv('updated_results_t5-base_.csv', usecols=['readme', 'prediction', 'description', 'ROUGE-1', 'ROUGE-2', 'ROUGE-L', 'ROUGE-LSUM', 'SIDE_baseline', 'SIDE_hard_negatives']).dropna()\n",
    "t5_large_df = pd.read_csv('updated_results_t5-large_.csv', usecols=['readme', 'prediction', 'description', 'ROUGE-1', 'ROUGE-2', 'ROUGE-L', 'ROUGE-LSUM', 'SIDE_baseline', 'SIDE_hard_negatives']).dropna()\n",
    "bart_base_df = pd.read_csv('updated_results_bart-base_.csv', usecols=['readme', 'prediction', 'description', 'ROUGE-1', 'ROUGE-2', 'ROUGE-L', 'ROUGE-LSUM', 'SIDE_baseline', 'SIDE_hard_negatives']).dropna()\n",
    "bart_large_df = pd.read_csv('updated_results_bart-large_.csv', usecols=['readme', 'prediction', 'description', 'ROUGE-1', 'ROUGE-2', 'ROUGE-L', 'ROUGE-LSUM', 'SIDE_baseline', 'SIDE_hard_negatives']).dropna()\n",
    "bart_large_xsum_df = pd.read_csv('updated_results_bart-large-xsum_.csv', usecols=['readme', 'prediction', 'description', 'ROUGE-1', 'ROUGE-2', 'ROUGE-L', 'ROUGE-LSUM', 'SIDE_baseline', 'SIDE_hard_negatives']).dropna()\n",
    "pegasus_x_base_df = pd.read_csv('updated_results_pegasus-x-base_.csv', usecols=['readme', 'prediction', 'description', 'ROUGE-1', 'ROUGE-2', 'ROUGE-L', 'ROUGE-LSUM', 'SIDE_baseline', 'SIDE_hard_negatives']).dropna()\n",
    "pegasus_x_large_df = pd.read_csv('updated_results_pegasus-x-large_.csv', usecols=['readme', 'prediction', 'description', 'ROUGE-1', 'ROUGE-2', 'ROUGE-L', 'ROUGE-LSUM', 'SIDE_baseline', 'SIDE_hard_negatives']).dropna()\n",
    "pegasus_large_df = pd.read_csv('updated_results_pegasus-large_.csv', usecols=['readme', 'prediction', 'description', 'ROUGE-1', 'ROUGE-2', 'ROUGE-L', 'ROUGE-LSUM', 'SIDE_baseline', 'SIDE_hard_negatives']).dropna()\n",
    "pegasus_xsum_df = pd.read_csv('updated_results_pegasus-xsum_.csv', usecols=['readme', 'prediction', 'description', 'ROUGE-1', 'ROUGE-2', 'ROUGE-L', 'ROUGE-LSUM', 'SIDE_baseline', 'SIDE_hard_negatives']).dropna()\n",
    "\n",
    "zeroshot_df = pd.read_csv('updated_results_llama2-7b_zero-shot.csv', usecols=['readme', 'prediction', 'description', 'ROUGE-1', 'ROUGE-2', 'ROUGE-L', 'ROUGE-LSUM', 'SIDE_baseline', 'SIDE_hard_negatives'])\n",
    "oneshot_df = pd.read_csv('updated_results_llama2-7b_one-shot.csv', usecols=['readme', 'prediction', 'description', 'ROUGE-1', 'ROUGE-2', 'ROUGE-L', 'ROUGE-LSUM', 'SIDE_baseline', 'SIDE_hard_negatives'])\n",
    "twoshot_df = pd.read_csv('updated_results_llama2-7b_two-shot.csv', usecols=['readme', 'prediction', 'description', 'ROUGE-1', 'ROUGE-2', 'ROUGE-L', 'ROUGE-LSUM', 'SIDE_baseline', 'SIDE_hard_negatives'])"
   ]
  },
  {
   "cell_type": "code",
   "execution_count": 16,
   "metadata": {},
   "outputs": [
    {
     "name": "stdout",
     "output_type": "stream",
     "text": [
      "t5-small R1 : 41.74\n",
      "t5-small R2 : 28.51\n",
      "t5-small RL : 39.34\n",
      "t5-small RL-SUM : 39.34\n",
      "t5-small SIDE_baseline : 68.77\n",
      "t5-small SIDE_hard_negatives : 40.84\n"
     ]
    }
   ],
   "source": [
    "# t5-small\n",
    "print(f\"t5-small R1 : {round(t5_small_df.loc[:, 'ROUGE-1'].mean(), 2)}\")\n",
    "print(f\"t5-small R2 : {round(t5_small_df.loc[:, 'ROUGE-2'].mean(), 2)}\")\n",
    "print(f\"t5-small RL : {round(t5_small_df.loc[:, 'ROUGE-L'].mean(), 2)}\")\n",
    "print(f\"t5-small RL-SUM : {round(t5_small_df.loc[:, 'ROUGE-LSUM'].mean(), 2)}\")\n",
    "print(f\"t5-small SIDE_baseline : {round(t5_small_df.loc[:, 'SIDE_baseline'].mean(), 2)}\")\n",
    "print(f\"t5-small SIDE_hard_negatives : {round(t5_small_df.loc[:, 'SIDE_hard_negatives'].mean(), 2)}\")"
   ]
  },
  {
   "cell_type": "code",
   "execution_count": 17,
   "metadata": {},
   "outputs": [
    {
     "name": "stdout",
     "output_type": "stream",
     "text": [
      "t5-base R1 : 48.27\n",
      "t5-base R2 : 33.83\n",
      "t5-base RL : 45.66\n",
      "t5-base RL-SUM : 45.66\n",
      "t5-base SIDE_baseline : 76.17\n",
      "t5-base SIDE_hard_negatives : 44.45\n"
     ]
    }
   ],
   "source": [
    "# t5-base\n",
    "print(f\"t5-base R1 : {round(t5_base_df.loc[:, 'ROUGE-1'].mean(), 2)}\")\n",
    "print(f\"t5-base R2 : {round(t5_base_df.loc[:, 'ROUGE-2'].mean(), 2)}\")\n",
    "print(f\"t5-base RL : {round(t5_base_df.loc[:, 'ROUGE-L'].mean(), 2)}\")\n",
    "print(f\"t5-base RL-SUM : {round(t5_base_df.loc[:, 'ROUGE-LSUM'].mean(), 2)}\")\n",
    "print(f\"t5-base SIDE_baseline : {round(t5_base_df.loc[:, 'SIDE_baseline'].mean(), 2)}\")\n",
    "print(f\"t5-base SIDE_hard_negatives : {round(t5_base_df.loc[:, 'SIDE_hard_negatives'].mean(), 2)}\")"
   ]
  },
  {
   "cell_type": "code",
   "execution_count": 18,
   "metadata": {},
   "outputs": [
    {
     "name": "stdout",
     "output_type": "stream",
     "text": [
      "t5-large R1 : 47.32\n",
      "t5-large R2 : 32.77\n",
      "t5-large RL : 44.47\n",
      "t5-large RL-SUM : 44.47\n",
      "t5-large SIDE_baseline : 75.74\n",
      "t5-large SIDE_hard_negatives : 43.75\n"
     ]
    }
   ],
   "source": [
    "# t5-large\n",
    "print(f\"t5-large R1 : {round(t5_large_df.loc[:, 'ROUGE-1'].mean(), 2)}\")\n",
    "print(f\"t5-large R2 : {round(t5_large_df.loc[:, 'ROUGE-2'].mean(), 2)}\")\n",
    "print(f\"t5-large RL : {round(t5_large_df.loc[:, 'ROUGE-L'].mean(), 2)}\")\n",
    "print(f\"t5-large RL-SUM : {round(t5_large_df.loc[:, 'ROUGE-LSUM'].mean(), 2)}\")\n",
    "print(f\"t5-large SIDE_baseline : {round(t5_large_df.loc[:, 'SIDE_baseline'].mean(), 2)}\")\n",
    "print(f\"t5-large SIDE_hard_negatives : {round(t5_large_df.loc[:, 'SIDE_hard_negatives'].mean(), 2)}\")"
   ]
  },
  {
   "cell_type": "code",
   "execution_count": 19,
   "metadata": {},
   "outputs": [
    {
     "name": "stdout",
     "output_type": "stream",
     "text": [
      "bart-base R1 : 51.37\n",
      "bart-base R2 : 36.81\n",
      "bart-base RL : 48.97\n",
      "bart-base RL-SUM : 48.97\n",
      "bart-base SIDE_baseline : 78.32\n",
      "bart-base SIDE_hard_negatives : 46.56\n"
     ]
    }
   ],
   "source": [
    "# bart-base\n",
    "print(f\"bart-base R1 : {round(bart_base_df.loc[:, 'ROUGE-1'].mean(), 2)}\")\n",
    "print(f\"bart-base R2 : {round(bart_base_df.loc[:, 'ROUGE-2'].mean(), 2)}\")\n",
    "print(f\"bart-base RL : {round(bart_base_df.loc[:, 'ROUGE-L'].mean(), 2)}\")\n",
    "print(f\"bart-base RL-SUM : {round(bart_base_df.loc[:, 'ROUGE-LSUM'].mean(), 2)}\")\n",
    "print(f\"bart-base SIDE_baseline : {round(bart_base_df.loc[:, 'SIDE_baseline'].mean(), 2)}\")\n",
    "print(f\"bart-base SIDE_hard_negatives : {round(bart_base_df.loc[:, 'SIDE_hard_negatives'].mean(), 2)}\")"
   ]
  },
  {
   "cell_type": "code",
   "execution_count": 20,
   "metadata": {},
   "outputs": [
    {
     "name": "stdout",
     "output_type": "stream",
     "text": [
      "bart-large R1 : 55.42\n",
      "bart-large R2 : 41.87\n",
      "bart-large RL : 53.04\n",
      "bart-large RL-SUM : 53.04\n",
      "bart-large SIDE_baseline : 80.51\n",
      "bart-large SIDE_hard_negatives : 50.97\n"
     ]
    }
   ],
   "source": [
    "# bart-large\n",
    "print(f\"bart-large R1 : {round(bart_large_df.loc[:, 'ROUGE-1'].mean(), 2)}\")\n",
    "print(f\"bart-large R2 : {round(bart_large_df.loc[:, 'ROUGE-2'].mean(), 2)}\")\n",
    "print(f\"bart-large RL : {round(bart_large_df.loc[:, 'ROUGE-L'].mean(), 2)}\")\n",
    "print(f\"bart-large RL-SUM : {round(bart_large_df.loc[:, 'ROUGE-LSUM'].mean(), 2)}\")\n",
    "print(f\"bart-large SIDE_baseline : {round(bart_large_df.loc[:, 'SIDE_baseline'].mean(), 2)}\")\n",
    "print(f\"bart-large SIDE_hard_negatives : {round(bart_large_df.loc[:, 'SIDE_hard_negatives'].mean(), 2)}\")"
   ]
  },
  {
   "cell_type": "code",
   "execution_count": 21,
   "metadata": {},
   "outputs": [
    {
     "name": "stdout",
     "output_type": "stream",
     "text": [
      "bart-large-xsum R1 : 58.03\n",
      "bart-large-xsum R2 : 45.6\n",
      "bart-large-xsum RL : 55.8\n",
      "bart-large-xsum RL-SUM : 55.8\n",
      "bart-large-xsum SIDE_baseline : 82.14\n",
      "bart-large-xsum SIDE_hard_negatives : 56.01\n"
     ]
    }
   ],
   "source": [
    "# bart-large-xsum\n",
    "print(f\"bart-large-xsum R1 : {round(bart_large_xsum_df.loc[:, 'ROUGE-1'].mean(), 2)}\")\n",
    "print(f\"bart-large-xsum R2 : {round(bart_large_xsum_df.loc[:, 'ROUGE-2'].mean(), 2)}\")\n",
    "print(f\"bart-large-xsum RL : {round(bart_large_xsum_df.loc[:, 'ROUGE-L'].mean(), 2)}\")\n",
    "print(f\"bart-large-xsum RL-SUM : {round(bart_large_xsum_df.loc[:, 'ROUGE-LSUM'].mean(), 2)}\")\n",
    "print(f\"bart-large-xsum SIDE_baseline : {round(bart_large_xsum_df.loc[:, 'SIDE_baseline'].mean(), 2)}\")\n",
    "print(f\"bart-large-xsum SIDE_hard_negatives : {round(bart_large_xsum_df.loc[:, 'SIDE_hard_negatives'].mean(), 2)}\")"
   ]
  },
  {
   "cell_type": "code",
   "execution_count": 22,
   "metadata": {},
   "outputs": [
    {
     "name": "stdout",
     "output_type": "stream",
     "text": [
      "pegasus-x-base R1 : 45.02\n",
      "pegasus-x-base R2 : 32.32\n",
      "pegasus-x-base RL : 42.65\n",
      "pegasus-x-base RL-SUM : 42.65\n",
      "pegasus-x-base SIDE_baseline : 76.73\n",
      "pegasus-x-base SIDE_hard_negatives : 43.98\n"
     ]
    }
   ],
   "source": [
    "# pegasus-x-base\n",
    "print(f\"pegasus-x-base R1 : {round(pegasus_x_base_df.loc[:, 'ROUGE-1'].mean(), 2)}\")\n",
    "print(f\"pegasus-x-base R2 : {round(pegasus_x_base_df.loc[:, 'ROUGE-2'].mean(), 2)}\")\n",
    "print(f\"pegasus-x-base RL : {round(pegasus_x_base_df.loc[:, 'ROUGE-L'].mean(), 2)}\")\n",
    "print(f\"pegasus-x-base RL-SUM : {round(pegasus_x_base_df.loc[:, 'ROUGE-LSUM'].mean(), 2)}\")\n",
    "print(f\"pegasus-x-base SIDE_baseline : {round(pegasus_x_base_df.loc[:, 'SIDE_baseline'].mean(), 2)}\")\n",
    "print(f\"pegasus-x-base SIDE_hard_negatives : {round(pegasus_x_base_df.loc[:, 'SIDE_hard_negatives'].mean(), 2)}\")\n"
   ]
  },
  {
   "cell_type": "code",
   "execution_count": 23,
   "metadata": {},
   "outputs": [
    {
     "name": "stdout",
     "output_type": "stream",
     "text": [
      "pegasus-x-large R1 : 47.62\n",
      "pegasus-x-large R2 : 34.34\n",
      "pegasus-x-large RL : 45.05\n",
      "pegasus-x-large RL-SUM : 45.05\n",
      "pegasus-x-large SIDE_baseline : 76.57\n",
      "pegasus-x-large SIDE_hard_negatives : 47.19\n"
     ]
    }
   ],
   "source": [
    "# pegasus-x-large\n",
    "print(f\"pegasus-x-large R1 : {round(pegasus_x_large_df.loc[:, 'ROUGE-1'].mean(), 2)}\")\n",
    "print(f\"pegasus-x-large R2 : {round(pegasus_x_large_df.loc[:, 'ROUGE-2'].mean(), 2)}\")\n",
    "print(f\"pegasus-x-large RL : {round(pegasus_x_large_df.loc[:, 'ROUGE-L'].mean(), 2)}\")\n",
    "print(f\"pegasus-x-large RL-SUM : {round(pegasus_x_large_df.loc[:, 'ROUGE-LSUM'].mean(), 2)}\")\n",
    "print(f\"pegasus-x-large SIDE_baseline : {round(pegasus_x_large_df.loc[:, 'SIDE_baseline'].mean(), 2)}\")\n",
    "print(f\"pegasus-x-large SIDE_hard_negatives : {round(pegasus_x_large_df.loc[:, 'SIDE_hard_negatives'].mean(), 2)}\")"
   ]
  },
  {
   "cell_type": "code",
   "execution_count": 24,
   "metadata": {},
   "outputs": [
    {
     "name": "stdout",
     "output_type": "stream",
     "text": [
      "pegasus-large R1 : 47.07\n",
      "pegasus-large R2 : 33.78\n",
      "pegasus-large RL : 44.55\n",
      "pegasus-large RL-SUM : 44.55\n",
      "pegasus-large SIDE_baseline : 76.81\n",
      "pegasus-large SIDE_hard_negatives : 45.15\n"
     ]
    }
   ],
   "source": [
    "# pegasus-large\n",
    "print(f\"pegasus-large R1 : {round(pegasus_large_df.loc[:, 'ROUGE-1'].mean(), 2)}\")\n",
    "print(f\"pegasus-large R2 : {round(pegasus_large_df.loc[:, 'ROUGE-2'].mean(), 2)}\")\n",
    "print(f\"pegasus-large RL : {round(pegasus_large_df.loc[:, 'ROUGE-L'].mean(), 2)}\")\n",
    "print(f\"pegasus-large RL-SUM : {round(pegasus_large_df.loc[:, 'ROUGE-LSUM'].mean(), 2)}\")\n",
    "print(f\"pegasus-large SIDE_baseline : {round(pegasus_large_df.loc[:, 'SIDE_baseline'].mean(), 2)}\")\n",
    "print(f\"pegasus-large SIDE_hard_negatives : {round(pegasus_large_df.loc[:, 'SIDE_hard_negatives'].mean(), 2)}\")"
   ]
  },
  {
   "cell_type": "code",
   "execution_count": 25,
   "metadata": {},
   "outputs": [
    {
     "name": "stdout",
     "output_type": "stream",
     "text": [
      "pegasus-xsum R1 : 46.56\n",
      "pegasus-xsum R2 : 32.86\n",
      "pegasus-xsum RL : 44.29\n",
      "pegasus-xsum RL-SUM : 44.29\n",
      "pegasus-xsum SIDE_baseline : 75.63\n",
      "pegasus-xsum SIDE_hard_negatives : 45.76\n"
     ]
    }
   ],
   "source": [
    "# pegasus-xsum\n",
    "print(f\"pegasus-xsum R1 : {round(pegasus_xsum_df.loc[:, 'ROUGE-1'].mean(), 2)}\")\n",
    "print(f\"pegasus-xsum R2 : {round(pegasus_xsum_df.loc[:, 'ROUGE-2'].mean(), 2)}\")\n",
    "print(f\"pegasus-xsum RL : {round(pegasus_xsum_df.loc[:, 'ROUGE-L'].mean(), 2)}\")\n",
    "print(f\"pegasus-xsum RL-SUM : {round(pegasus_xsum_df.loc[:, 'ROUGE-LSUM'].mean(), 2)}\")\n",
    "print(f\"pegasus-xsum SIDE_baseline : {round(pegasus_xsum_df.loc[:, 'SIDE_baseline'].mean(), 2)}\")\n",
    "print(f\"pegasus-xsum SIDE_hard_negatives : {round(pegasus_xsum_df.loc[:, 'SIDE_hard_negatives'].mean(), 2)}\")"
   ]
  },
  {
   "cell_type": "code",
   "execution_count": 26,
   "metadata": {},
   "outputs": [
    {
     "name": "stdout",
     "output_type": "stream",
     "text": [
      "llama2-7b-zero-shot R1 : 41.08\n",
      "llama2-7b-zero-shot R2 : 28.3\n",
      "llama2-7b-zero-shot RL : 38.4\n",
      "llama2-7b-zero-shot RL-SUM : 38.39\n",
      "llama2-7b-zero-shot SIDE_baseline : 74.5\n",
      "llama2-7b-zero-shot SIDE_hard_negatives : 38.61\n"
     ]
    }
   ],
   "source": [
    "# zero-shot\n",
    "print(f\"llama2-7b-zero-shot R1 : {round(zeroshot_df.loc[:, 'ROUGE-1'].mean(), 2)}\")\n",
    "print(f\"llama2-7b-zero-shot R2 : {round(zeroshot_df.loc[:, 'ROUGE-2'].mean(), 2)}\")\n",
    "print(f\"llama2-7b-zero-shot RL : {round(zeroshot_df.loc[:, 'ROUGE-L'].mean(), 2)}\")\n",
    "print(f\"llama2-7b-zero-shot RL-SUM : {round(zeroshot_df.loc[:, 'ROUGE-LSUM'].mean(), 2)}\")\n",
    "print(f\"llama2-7b-zero-shot SIDE_baseline : {round(zeroshot_df.loc[:, 'SIDE_baseline'].mean(), 2)}\")\n",
    "print(f\"llama2-7b-zero-shot SIDE_hard_negatives : {round(zeroshot_df.loc[:, 'SIDE_hard_negatives'].mean(), 2)}\")"
   ]
  },
  {
   "cell_type": "code",
   "execution_count": 27,
   "metadata": {},
   "outputs": [
    {
     "name": "stdout",
     "output_type": "stream",
     "text": [
      "llama2-7b-one-shot R1 : 27.26\n",
      "llama2-7b-one-shot R2 : 17.66\n",
      "llama2-7b-one-shot RL : 25.29\n",
      "llama2-7b-one-shot RL-SUM : 25.28\n",
      "llama2-7b-zero-shot SIDE_baseline : 67.53\n",
      "llama2-7b-zero-shot SIDE_hard_negatives : 34.94\n"
     ]
    }
   ],
   "source": [
    "# one-shot\n",
    "print(f\"llama2-7b-one-shot R1 : {round(oneshot_df.loc[:, 'ROUGE-1'].mean(), 2)}\")\n",
    "print(f\"llama2-7b-one-shot R2 : {round(oneshot_df.loc[:, 'ROUGE-2'].mean(), 2)}\")\n",
    "print(f\"llama2-7b-one-shot RL : {round(oneshot_df.loc[:, 'ROUGE-L'].mean(), 2)}\")\n",
    "print(f\"llama2-7b-one-shot RL-SUM : {round(oneshot_df.loc[:, 'ROUGE-LSUM'].mean(), 2)}\")\n",
    "print(f\"llama2-7b-zero-shot SIDE_baseline : {round(oneshot_df.loc[:, 'SIDE_baseline'].mean(), 2)}\")\n",
    "print(f\"llama2-7b-zero-shot SIDE_hard_negatives : {round(oneshot_df.loc[:, 'SIDE_hard_negatives'].mean(), 2)}\")"
   ]
  },
  {
   "cell_type": "code",
   "execution_count": 28,
   "metadata": {},
   "outputs": [
    {
     "name": "stdout",
     "output_type": "stream",
     "text": [
      "llama2-7b-two-shot R1 : 24.3\n",
      "llama2-7b-two-shot R2 : 15.19\n",
      "llama2-7b-two-shot RL : 22.39\n",
      "llama2-7b-two-shot RL-SUM : 22.38\n",
      "llama2-7b-zero-shot SIDE_baseline : 61.04\n",
      "llama2-7b-zero-shot SIDE_hard_negatives : 32.87\n"
     ]
    }
   ],
   "source": [
    "# two-shot\n",
    "print(f\"llama2-7b-two-shot R1 : {round(twoshot_df.loc[:, 'ROUGE-1'].mean(), 2)}\")\n",
    "print(f\"llama2-7b-two-shot R2 : {round(twoshot_df.loc[:, 'ROUGE-2'].mean(), 2)}\")\n",
    "print(f\"llama2-7b-two-shot RL : {round(twoshot_df.loc[:, 'ROUGE-L'].mean(), 2)}\")\n",
    "print(f\"llama2-7b-two-shot RL-SUM : {round(twoshot_df.loc[:, 'ROUGE-LSUM'].mean(), 2)}\")\n",
    "print(f\"llama2-7b-zero-shot SIDE_baseline : {round(twoshot_df.loc[:, 'SIDE_baseline'].mean(), 2)}\")\n",
    "print(f\"llama2-7b-zero-shot SIDE_hard_negatives : {round(twoshot_df.loc[:, 'SIDE_hard_negatives'].mean(), 2)}\")"
   ]
  }
 ],
 "metadata": {
  "kernelspec": {
   "display_name": "readsum",
   "language": "python",
   "name": "python3"
  },
  "language_info": {
   "codemirror_mode": {
    "name": "ipython",
    "version": 3
   },
   "file_extension": ".py",
   "mimetype": "text/x-python",
   "name": "python",
   "nbconvert_exporter": "python",
   "pygments_lexer": "ipython3",
   "version": "3.10.14"
  }
 },
 "nbformat": 4,
 "nbformat_minor": 2
}
