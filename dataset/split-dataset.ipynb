{
 "cells": [
  {
   "cell_type": "code",
   "execution_count": 306,
   "metadata": {},
   "outputs": [],
   "source": [
    "import numpy as np\n",
    "import pandas as pd\n",
    "import matplotlib.pyplot as plt\n",
    "import seaborn as sns"
   ]
  },
  {
   "cell_type": "code",
   "execution_count": 307,
   "metadata": {},
   "outputs": [],
   "source": [
    "# awesome_df = pd.read_csv('./datasets_SALA/Awesome/awesome_text.csv').replace(to_replace='None', value=np.nan).dropna()\n",
    "# github_df = pd.read_csv('./datasets_SALA/Github/github_text.csv').replace(to_replace='None', value=np.nan).dropna()\n",
    "# gitsum_df = pd.read_csv('./datasets_SALA/GitSum/gitsum-text-final.csv').replace(to_replace='None', value=np.nan).dropna()\n",
    "# jupyter_df = pd.read_csv('./datasets_SALA/Jupyter/py_jupyter_text.csv').replace(to_replace='None', value=np.nan).dropna()\n",
    "# pysmall_df = pd.read_csv('./datasets_SALA/Py_small/py_dataset_text.csv').replace(to_replace='None', value=np.nan).dropna()\n",
    "\n",
    "awesome_df = pd.read_csv('./datasets_SALA/Awesome/awesome_text.csv').replace(to_replace='None', value=np.nan)\n",
    "github_df = pd.read_csv('./datasets_SALA/Github/github_text.csv').replace(to_replace='None', value=np.nan)\n",
    "gitsum_df = pd.read_csv('./datasets_SALA/GitSum/gitsum-text-final.csv').replace(to_replace='None', value=np.nan)\n",
    "jupyter_df = pd.read_csv('./datasets_SALA/Jupyter/py_jupyter_text.csv').replace(to_replace='None', value=np.nan)\n",
    "pysmall_df = pd.read_csv('./datasets_SALA/Py_small/py_dataset_text.csv').replace(to_replace='None', value=np.nan)"
   ]
  },
  {
   "cell_type": "code",
   "execution_count": 308,
   "metadata": {},
   "outputs": [
    {
     "name": "stdout",
     "output_type": "stream",
     "text": [
      "942 2459 4333 429 572\n"
     ]
    }
   ],
   "source": [
    "print(len(awesome_df), len(github_df), len(gitsum_df), len(jupyter_df), len(pysmall_df))"
   ]
  },
  {
   "cell_type": "code",
   "execution_count": 309,
   "metadata": {},
   "outputs": [],
   "source": [
    "awesome_df = awesome_df.dropna()\n",
    "github_df = github_df.dropna()\n",
    "gitsum_df = gitsum_df.dropna()\n",
    "jupyter_df = jupyter_df.dropna()\n",
    "pysmall_df = pysmall_df.dropna()"
   ]
  },
  {
   "cell_type": "code",
   "execution_count": 310,
   "metadata": {},
   "outputs": [
    {
     "data": {
      "text/html": [
       "<div>\n",
       "<style scoped>\n",
       "    .dataframe tbody tr th:only-of-type {\n",
       "        vertical-align: middle;\n",
       "    }\n",
       "\n",
       "    .dataframe tbody tr th {\n",
       "        vertical-align: top;\n",
       "    }\n",
       "\n",
       "    .dataframe thead th {\n",
       "        text-align: right;\n",
       "    }\n",
       "</style>\n",
       "<table border=\"1\" class=\"dataframe\">\n",
       "  <thead>\n",
       "    <tr style=\"text-align: right;\">\n",
       "      <th></th>\n",
       "      <th>repo_url</th>\n",
       "      <th>description</th>\n",
       "      <th>readme</th>\n",
       "    </tr>\n",
       "  </thead>\n",
       "  <tbody>\n",
       "    <tr>\n",
       "      <th>0</th>\n",
       "      <td>https://github.com/Sholista/sholista</td>\n",
       "      <td>Shopping Lists that are Awesome</td>\n",
       "      <td>b'#Sholista\\nSholista is an intelligent shoppi...</td>\n",
       "    </tr>\n",
       "    <tr>\n",
       "      <th>1</th>\n",
       "      <td>https://github.com/pushkarparanjpe/fluidmosaic</td>\n",
       "      <td>Awesome things found online often get burried ...</td>\n",
       "      <td>b'fluidmosaic\\n===========\\nAwesome things fou...</td>\n",
       "    </tr>\n",
       "    <tr>\n",
       "      <th>2</th>\n",
       "      <td>https://github.com/ziadoz/awesome-php</td>\n",
       "      <td>A curated list of amazingly awesome PHP librar...</td>\n",
       "      <td>b'# Awesome PHP \\n\\nA curated list of amazingl...</td>\n",
       "    </tr>\n",
       "    <tr>\n",
       "      <th>3</th>\n",
       "      <td>https://github.com/svaksha/Julia.jl</td>\n",
       "      <td>Curated decibans of Julia programming language.</td>\n",
       "      <td>b'# Julia.jl\\n\\n aggregates and curates deciba...</td>\n",
       "    </tr>\n",
       "    <tr>\n",
       "      <th>4</th>\n",
       "      <td>https://github.com/poldixd/contao-fa-list-types</td>\n",
       "      <td>⏩ You can create lists in Contao with Font Awe...</td>\n",
       "      <td>b'Font-Awesome-Contao-List-Types\\n============...</td>\n",
       "    </tr>\n",
       "    <tr>\n",
       "      <th>...</th>\n",
       "      <td>...</td>\n",
       "      <td>...</td>\n",
       "      <td>...</td>\n",
       "    </tr>\n",
       "    <tr>\n",
       "      <th>567</th>\n",
       "      <td>https://github.com/0voice/interview_internal_r...</td>\n",
       "      <td>2023年最新总结，阿里，腾讯，百度，美团，头条等技术面试题目，以及答案，专家出题人分析汇总。</td>\n",
       "      <td>2023年最新总结，阿里，腾讯，百度，美团，头条等技术面试题目，以及答案，专家出题人分析汇总...</td>\n",
       "    </tr>\n",
       "    <tr>\n",
       "      <th>568</th>\n",
       "      <td>https://github.com/taki0112/UGATIT</td>\n",
       "      <td>Official Tensorflow implementation of U-GAT-IT...</td>\n",
       "      <td>U-GAT-IT &amp;mdash; Official TensorFlow Implement...</td>\n",
       "    </tr>\n",
       "    <tr>\n",
       "      <th>569</th>\n",
       "      <td>https://github.com/UKPLab/sentence-transformers</td>\n",
       "      <td>Multilingual Sentence &amp; Image Embeddings with ...</td>\n",
       "      <td>Sentence Transformers: Multilingual Sentence, ...</td>\n",
       "    </tr>\n",
       "    <tr>\n",
       "      <th>570</th>\n",
       "      <td>https://github.com/timesler/facenet-pytorch</td>\n",
       "      <td>Pretrained Pytorch face detection (MTCNN) and ...</td>\n",
       "      <td>Face Recognition Using PytorchYou can also rea...</td>\n",
       "    </tr>\n",
       "    <tr>\n",
       "      <th>571</th>\n",
       "      <td>https://github.com/jazzband/django-taggit</td>\n",
       "      <td>Simple tagging for django</td>\n",
       "      <td>django-taggit.. image:: https://jazzband.co/st...</td>\n",
       "    </tr>\n",
       "  </tbody>\n",
       "</table>\n",
       "<p>8332 rows × 3 columns</p>\n",
       "</div>"
      ],
      "text/plain": [
       "                                              repo_url  \\\n",
       "0                 https://github.com/Sholista/sholista   \n",
       "1       https://github.com/pushkarparanjpe/fluidmosaic   \n",
       "2                https://github.com/ziadoz/awesome-php   \n",
       "3                  https://github.com/svaksha/Julia.jl   \n",
       "4      https://github.com/poldixd/contao-fa-list-types   \n",
       "..                                                 ...   \n",
       "567  https://github.com/0voice/interview_internal_r...   \n",
       "568                 https://github.com/taki0112/UGATIT   \n",
       "569    https://github.com/UKPLab/sentence-transformers   \n",
       "570        https://github.com/timesler/facenet-pytorch   \n",
       "571          https://github.com/jazzband/django-taggit   \n",
       "\n",
       "                                           description  \\\n",
       "0                      Shopping Lists that are Awesome   \n",
       "1    Awesome things found online often get burried ...   \n",
       "2    A curated list of amazingly awesome PHP librar...   \n",
       "3      Curated decibans of Julia programming language.   \n",
       "4    ⏩ You can create lists in Contao with Font Awe...   \n",
       "..                                                 ...   \n",
       "567    2023年最新总结，阿里，腾讯，百度，美团，头条等技术面试题目，以及答案，专家出题人分析汇总。   \n",
       "568  Official Tensorflow implementation of U-GAT-IT...   \n",
       "569  Multilingual Sentence & Image Embeddings with ...   \n",
       "570  Pretrained Pytorch face detection (MTCNN) and ...   \n",
       "571                          Simple tagging for django   \n",
       "\n",
       "                                                readme  \n",
       "0    b'#Sholista\\nSholista is an intelligent shoppi...  \n",
       "1    b'fluidmosaic\\n===========\\nAwesome things fou...  \n",
       "2    b'# Awesome PHP \\n\\nA curated list of amazingl...  \n",
       "3    b'# Julia.jl\\n\\n aggregates and curates deciba...  \n",
       "4    b'Font-Awesome-Contao-List-Types\\n============...  \n",
       "..                                                 ...  \n",
       "567  2023年最新总结，阿里，腾讯，百度，美团，头条等技术面试题目，以及答案，专家出题人分析汇总...  \n",
       "568  U-GAT-IT &mdash; Official TensorFlow Implement...  \n",
       "569  Sentence Transformers: Multilingual Sentence, ...  \n",
       "570  Face Recognition Using PytorchYou can also rea...  \n",
       "571  django-taggit.. image:: https://jazzband.co/st...  \n",
       "\n",
       "[8332 rows x 3 columns]"
      ]
     },
     "execution_count": 310,
     "metadata": {},
     "output_type": "execute_result"
    }
   ],
   "source": [
    "SALA_df = pd.concat([awesome_df, github_df, gitsum_df, jupyter_df, pysmall_df])\n",
    "SALA_df = SALA_df.drop(['id'], axis=1)\n",
    "SALA_df"
   ]
  },
  {
   "cell_type": "code",
   "execution_count": 311,
   "metadata": {},
   "outputs": [],
   "source": [
    "SALA_df['token_count'] = SALA_df['description'].apply(lambda x : len(str(x).split(\" \")))"
   ]
  },
  {
   "cell_type": "code",
   "execution_count": 312,
   "metadata": {},
   "outputs": [
    {
     "data": {
      "text/plain": [
       "6"
      ]
     },
     "execution_count": 312,
     "metadata": {},
     "output_type": "execute_result"
    }
   ],
   "source": [
    "SALA_df['token_count'].mode()[0]"
   ]
  },
  {
   "cell_type": "code",
   "execution_count": 313,
   "metadata": {},
   "outputs": [
    {
     "data": {
      "text/html": [
       "<div>\n",
       "<style scoped>\n",
       "    .dataframe tbody tr th:only-of-type {\n",
       "        vertical-align: middle;\n",
       "    }\n",
       "\n",
       "    .dataframe tbody tr th {\n",
       "        vertical-align: top;\n",
       "    }\n",
       "\n",
       "    .dataframe thead th {\n",
       "        text-align: right;\n",
       "    }\n",
       "</style>\n",
       "<table border=\"1\" class=\"dataframe\">\n",
       "  <thead>\n",
       "    <tr style=\"text-align: right;\">\n",
       "      <th></th>\n",
       "      <th>repo_url</th>\n",
       "      <th>description</th>\n",
       "      <th>readme</th>\n",
       "      <th>token_count</th>\n",
       "    </tr>\n",
       "  </thead>\n",
       "  <tbody>\n",
       "    <tr>\n",
       "      <th>0</th>\n",
       "      <td>https://github.com/Sholista/sholista</td>\n",
       "      <td>Shopping Lists that are Awesome</td>\n",
       "      <td>b'#Sholista\\nSholista is an intelligent shoppi...</td>\n",
       "      <td>5</td>\n",
       "    </tr>\n",
       "    <tr>\n",
       "      <th>1</th>\n",
       "      <td>https://github.com/pushkarparanjpe/fluidmosaic</td>\n",
       "      <td>Awesome things found online often get burried ...</td>\n",
       "      <td>b'fluidmosaic\\n===========\\nAwesome things fou...</td>\n",
       "      <td>35</td>\n",
       "    </tr>\n",
       "    <tr>\n",
       "      <th>2</th>\n",
       "      <td>https://github.com/ziadoz/awesome-php</td>\n",
       "      <td>A curated list of amazingly awesome PHP librar...</td>\n",
       "      <td>b'# Awesome PHP \\n\\nA curated list of amazingl...</td>\n",
       "      <td>12</td>\n",
       "    </tr>\n",
       "    <tr>\n",
       "      <th>3</th>\n",
       "      <td>https://github.com/svaksha/Julia.jl</td>\n",
       "      <td>Curated decibans of Julia programming language.</td>\n",
       "      <td>b'# Julia.jl\\n\\n aggregates and curates deciba...</td>\n",
       "      <td>6</td>\n",
       "    </tr>\n",
       "    <tr>\n",
       "      <th>4</th>\n",
       "      <td>https://github.com/poldixd/contao-fa-list-types</td>\n",
       "      <td>⏩ You can create lists in Contao with Font Awe...</td>\n",
       "      <td>b'Font-Awesome-Contao-List-Types\\n============...</td>\n",
       "      <td>12</td>\n",
       "    </tr>\n",
       "    <tr>\n",
       "      <th>...</th>\n",
       "      <td>...</td>\n",
       "      <td>...</td>\n",
       "      <td>...</td>\n",
       "      <td>...</td>\n",
       "    </tr>\n",
       "    <tr>\n",
       "      <th>567</th>\n",
       "      <td>https://github.com/0voice/interview_internal_r...</td>\n",
       "      <td>2023年最新总结，阿里，腾讯，百度，美团，头条等技术面试题目，以及答案，专家出题人分析汇总。</td>\n",
       "      <td>2023年最新总结，阿里，腾讯，百度，美团，头条等技术面试题目，以及答案，专家出题人分析汇总...</td>\n",
       "      <td>1</td>\n",
       "    </tr>\n",
       "    <tr>\n",
       "      <th>568</th>\n",
       "      <td>https://github.com/taki0112/UGATIT</td>\n",
       "      <td>Official Tensorflow implementation of U-GAT-IT...</td>\n",
       "      <td>U-GAT-IT &amp;mdash; Official TensorFlow Implement...</td>\n",
       "      <td>18</td>\n",
       "    </tr>\n",
       "    <tr>\n",
       "      <th>569</th>\n",
       "      <td>https://github.com/UKPLab/sentence-transformers</td>\n",
       "      <td>Multilingual Sentence &amp; Image Embeddings with ...</td>\n",
       "      <td>Sentence Transformers: Multilingual Sentence, ...</td>\n",
       "      <td>7</td>\n",
       "    </tr>\n",
       "    <tr>\n",
       "      <th>570</th>\n",
       "      <td>https://github.com/timesler/facenet-pytorch</td>\n",
       "      <td>Pretrained Pytorch face detection (MTCNN) and ...</td>\n",
       "      <td>Face Recognition Using PytorchYou can also rea...</td>\n",
       "      <td>10</td>\n",
       "    </tr>\n",
       "    <tr>\n",
       "      <th>571</th>\n",
       "      <td>https://github.com/jazzband/django-taggit</td>\n",
       "      <td>Simple tagging for django</td>\n",
       "      <td>django-taggit.. image:: https://jazzband.co/st...</td>\n",
       "      <td>4</td>\n",
       "    </tr>\n",
       "  </tbody>\n",
       "</table>\n",
       "<p>8332 rows × 4 columns</p>\n",
       "</div>"
      ],
      "text/plain": [
       "                                              repo_url  \\\n",
       "0                 https://github.com/Sholista/sholista   \n",
       "1       https://github.com/pushkarparanjpe/fluidmosaic   \n",
       "2                https://github.com/ziadoz/awesome-php   \n",
       "3                  https://github.com/svaksha/Julia.jl   \n",
       "4      https://github.com/poldixd/contao-fa-list-types   \n",
       "..                                                 ...   \n",
       "567  https://github.com/0voice/interview_internal_r...   \n",
       "568                 https://github.com/taki0112/UGATIT   \n",
       "569    https://github.com/UKPLab/sentence-transformers   \n",
       "570        https://github.com/timesler/facenet-pytorch   \n",
       "571          https://github.com/jazzband/django-taggit   \n",
       "\n",
       "                                           description  \\\n",
       "0                      Shopping Lists that are Awesome   \n",
       "1    Awesome things found online often get burried ...   \n",
       "2    A curated list of amazingly awesome PHP librar...   \n",
       "3      Curated decibans of Julia programming language.   \n",
       "4    ⏩ You can create lists in Contao with Font Awe...   \n",
       "..                                                 ...   \n",
       "567    2023年最新总结，阿里，腾讯，百度，美团，头条等技术面试题目，以及答案，专家出题人分析汇总。   \n",
       "568  Official Tensorflow implementation of U-GAT-IT...   \n",
       "569  Multilingual Sentence & Image Embeddings with ...   \n",
       "570  Pretrained Pytorch face detection (MTCNN) and ...   \n",
       "571                          Simple tagging for django   \n",
       "\n",
       "                                                readme  token_count  \n",
       "0    b'#Sholista\\nSholista is an intelligent shoppi...            5  \n",
       "1    b'fluidmosaic\\n===========\\nAwesome things fou...           35  \n",
       "2    b'# Awesome PHP \\n\\nA curated list of amazingl...           12  \n",
       "3    b'# Julia.jl\\n\\n aggregates and curates deciba...            6  \n",
       "4    b'Font-Awesome-Contao-List-Types\\n============...           12  \n",
       "..                                                 ...          ...  \n",
       "567  2023年最新总结，阿里，腾讯，百度，美团，头条等技术面试题目，以及答案，专家出题人分析汇总...            1  \n",
       "568  U-GAT-IT &mdash; Official TensorFlow Implement...           18  \n",
       "569  Sentence Transformers: Multilingual Sentence, ...            7  \n",
       "570  Face Recognition Using PytorchYou can also rea...           10  \n",
       "571  django-taggit.. image:: https://jazzband.co/st...            4  \n",
       "\n",
       "[8332 rows x 4 columns]"
      ]
     },
     "execution_count": 313,
     "metadata": {},
     "output_type": "execute_result"
    }
   ],
   "source": [
    "SALA_df"
   ]
  },
  {
   "cell_type": "code",
   "execution_count": 314,
   "metadata": {},
   "outputs": [
    {
     "data": {
      "text/plain": [
       "(1412, 1)"
      ]
     },
     "execution_count": 314,
     "metadata": {},
     "output_type": "execute_result"
    }
   ],
   "source": [
    "SALA_df['token_count'].max(), SALA_df['token_count'].min()"
   ]
  },
  {
   "cell_type": "code",
   "execution_count": 315,
   "metadata": {},
   "outputs": [],
   "source": [
    "# SALA_df = SALA_df[(SALA_df['token_count']) < 300 & (SALA_df['token_count'] > 0)]\n",
    "# SALA_df = SALA_df[SALA_df['token_count'] < 300]"
   ]
  },
  {
   "cell_type": "code",
   "execution_count": 316,
   "metadata": {},
   "outputs": [
    {
     "data": {
      "image/png": "[encoded data removed]",
      "text/plain": [
       "<Figure size 1000x600 with 1 Axes>"
      ]
     },
     "metadata": {},
     "output_type": "display_data"
    }
   ],
   "source": [
    "# Generate the histogram data\n",
    "hist, bin_edges = np.histogram(SALA_df[\"token_count\"], bins=range(5, 70, 5))\n",
    "\n",
    "plt.figure(figsize=(10, 6))\n",
    "plt.barh(bin_edges[:-1], hist, height=6, color='blue')\n",
    "plt.xlabel('Number of Samples')\n",
    "plt.ylabel('Token Count')\n",
    "plt.title('Distribution of Token Counts in each README description sample')\n",
    "plt.show()"
   ]
  },
  {
   "cell_type": "code",
   "execution_count": null,
   "metadata": {},
   "outputs": [],
   "source": [
    "# X = [sample for sample in SALA_df['readme']]\n",
    "# y = [sample for sample in SALA_df['description']]"
   ]
  },
  {
   "cell_type": "code",
   "execution_count": null,
   "metadata": {},
   "outputs": [
    {
     "data": {
      "image/png": "[encoded data removed]",
      "text/plain": [
       "<Figure size 1000x600 with 1 Axes>"
      ]
     },
     "metadata": {},
     "output_type": "display_data"
    }
   ],
   "source": [
    "import matplotlib.pyplot as plt\n",
    "import numpy as np\n",
    "\n",
    "# Assuming you have the original token counts data\n",
    "# Replace this with the actual data used to generate the plot\n",
    "token_counts = np.random.poisson(5, 10000)\n",
    "\n",
    "# Generate the histogram data\n",
    "hist, bin_edges = np.histogram(token_counts, bins=range(0, 300, 5))\n",
    "\n",
    "# Create a new plot with swapped axes\n",
    "plt.figure(figsize=(10, 6))\n",
    "plt.barh(bin_edges[:-1], hist, height=5, color='blue')\n",
    "plt.xlabel('Number of Samples')\n",
    "plt.ylabel('Token Count')\n",
    "plt.title('Distribution of Token Counts in each README description sample')\n",
    "plt.show()"
   ]
  },
  {
   "cell_type": "code",
   "execution_count": null,
   "metadata": {},
   "outputs": [],
   "source": [
    "# from sklearn.model_selection import train_test_split\n",
    "\n",
    "# X_train, X_test, y_train, y_test = train_test_split(X, y, test_size=0.2, random_state=1)\n",
    "# X_train, X_val, y_train, y_val = train_test_split(X_train, y_train, test_size=1/8, random_state=1)"
   ]
  },
  {
   "cell_type": "code",
   "execution_count": null,
   "metadata": {},
   "outputs": [],
   "source": [
    "# Train : Val : Test = 7 : 1 : 2\n",
    "# print(\"Train size: %d\\n\"\n",
    "#       \"Validation size: %d\\n\"\n",
    "#       \"Test size: %d\" %(len(X_train), len(X_val), len(X_test)))"
   ]
  },
  {
   "cell_type": "code",
   "execution_count": null,
   "metadata": {},
   "outputs": [],
   "source": [
    "# X_train[0]"
   ]
  },
  {
   "cell_type": "code",
   "execution_count": null,
   "metadata": {},
   "outputs": [],
   "source": [
    "# train_df = pd.DataFrame(list(zip(X_train, y_train)), columns=['readme', 'description'])\n",
    "# validation_df = pd.DataFrame(list(zip(X_val, y_val)), columns=['readme', 'description'])\n",
    "# test_df = pd.DataFrame(list(zip(X_test, y_test)), columns=['readme', 'description'])"
   ]
  },
  {
   "cell_type": "code",
   "execution_count": null,
   "metadata": {},
   "outputs": [],
   "source": [
    "# train_df.to_csv('train.csv')\n",
    "# validation_df.to_csv('validation.csv')\n",
    "# test_df.to_csv('test.csv')"
   ]
  }
 ],
 "metadata": {
  "kernelspec": {
   "display_name": "readsum",
   "language": "python",
   "name": "python3"
  },
  "language_info": {
   "codemirror_mode": {
    "name": "ipython",
    "version": 3
   },
   "file_extension": ".py",
   "mimetype": "text/x-python",
   "name": "python",
   "nbconvert_exporter": "python",
   "pygments_lexer": "ipython3",
   "version": "3.10.14"
  }
 },
 "nbformat": 4,
 "nbformat_minor": 2
}
