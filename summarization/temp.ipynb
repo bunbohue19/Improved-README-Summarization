{
 "cells": [
  {
   "cell_type": "code",
   "execution_count": 16,
   "metadata": {},
   "outputs": [],
   "source": [
    "import numpy as np\n",
    "import pandas as pd\n",
    "import re\n",
    "from markdown import markdown\n",
    "from bs4 import BeautifulSoup\n",
    "\n",
    "train_df = pd.read_csv('../dataset/train.csv', usecols=['readme', 'description'])\n",
    "val_df = pd.read_csv('../dataset/validation.csv', usecols=['readme', 'description'])\n",
    "test_df = pd.read_csv('../dataset/test.csv', usecols=['readme', 'description'])"
   ]
  },
  {
   "cell_type": "code",
   "execution_count": 17,
   "metadata": {},
   "outputs": [],
   "source": [
    "\"\"\"\n",
    "    Return item and drop from frame. Raise KeyError if not found.\n",
    "\"\"\"\n",
    "def pop(df : pd.DataFrame, idx : int):\n",
    "    readme = df['readme'][idx]\n",
    "    description = df['description'][idx]\n",
    "    result = {'readme' : readme, 'description' : description}\n",
    "    df.at[idx, 'readme'] = np.nan\n",
    "    df.at[idx, 'description'] = np.nan\n",
    "    return result\n",
    "\n",
    "# Few-shots prompting\n",
    "def generate_testing_prompt(readme, shots):\n",
    "    if len(shots) == 0:\n",
    "        return f\"\"\"### Instruction: Summarize the following README contents with LESS THAN 30 words. Your answer should be based on the provided README contents only.\n",
    "\n",
    "        ### README contents:\n",
    "        {readme.strip()}\n",
    "\n",
    "        ### Summary:\n",
    "        \"\"\".strip()\n",
    "    else:\n",
    "        prompt = \"\"\"### Instruction: Summarize the following README contents with LESS THAN 30 words. Your answer should be based on the provided README contents only.\n",
    "        ### For examples:\n",
    "        \"\"\"\n",
    "        \n",
    "        for i in range(len(shots)):\n",
    "            prompt += f\"\"\" \n",
    "            ### README contents: \n",
    "            {shots[i]['readme'].strip()}\n",
    "            \n",
    "            ### Summary:\n",
    "            {shots[i]['description'].strip()}            \n",
    "            \"\"\"\n",
    "\n",
    "        prompt += f\"\"\"\n",
    "        ### README contents:\n",
    "        {readme.strip()}\n",
    "\n",
    "        ### Summary:\n",
    "        \"\"\".strip()\n",
    "    return prompt\n",
    "        \n",
    "# Function to remove tags\n",
    "def format_entry(md_data) :\n",
    "    html = markdown(md_data)\n",
    "    # parse html content\n",
    "    soup = BeautifulSoup(html, \"html.parser\")\n",
    "    for a in soup.findAll('a', href=True):\n",
    "        a.decompose()\n",
    "    for data in soup(['style', 'script', 'img', 'pre', 'code']):\n",
    "        # Remove tags\n",
    "        data.decompose()\n",
    "    # return data by retrieving the tag content\n",
    "    return ' '.join(soup.stripped_strings)\n",
    "\n",
    "def clean_text(text):\n",
    "    text = re.sub(r\"http\\S+\", \"\", text)\n",
    "    text = re.sub(r\"@[^\\s]+\", \"\", text)\n",
    "    text = re.sub(r\"\\s+\", \" \", text)\n",
    "    text = re.sub(r\"#+\", \" \", text)\n",
    "    return re.sub(r\"\\^[^ ]+\", \"\", text)\n",
    "\n",
    "def process_description(s: str) -> str:\n",
    "    if s.endswith('.'):\n",
    "        s = s[:-1]\n",
    "        s = re.sub(r\"\\. \", \", \", s)\n",
    "    return s + '.'\n",
    "\n",
    "def generate_testing_prompt(readme, shots):\n",
    "    if len(shots) == 0:\n",
    "        return f\"\"\"### Instruction: Summarize the following README contents with LESS THAN 30 words. Your answer should be based on the provided README contents only.\n",
    "\n",
    "        ### README contents:\n",
    "        {readme.strip()}\n",
    "\n",
    "        ### Summary:\n",
    "        \"\"\".strip()\n",
    "    else:\n",
    "        prompt = \"\"\"### Instruction: Summarize the following README contents with LESS THAN 30 words. Your answer should be based on the provided README contents only.\n",
    "        ### For examples:\n",
    "        \"\"\"\n",
    "        \n",
    "        for i in range(len(shots)):\n",
    "            prompt += f\"\"\" \n",
    "            ### README contents: \n",
    "            {shots[i]['readme'].strip()}\n",
    "            \n",
    "            ### Summary:\n",
    "            {shots[i]['description'].strip()}            \n",
    "            \"\"\"\n",
    "\n",
    "        prompt += f\"\"\"\n",
    "        ### README contents:\n",
    "        {readme.strip()}\n",
    "\n",
    "        ### Summary:\n",
    "        \"\"\".strip()\n",
    "        return prompt"
   ]
  },
  {
   "cell_type": "code",
   "execution_count": 18,
   "metadata": {},
   "outputs": [],
   "source": [
    "for i, readme in enumerate(test_df['readme']):\n",
    "    test_df.at[i, 'readme'] = format_entry(readme)"
   ]
  },
  {
   "cell_type": "code",
   "execution_count": 19,
   "metadata": {},
   "outputs": [],
   "source": [
    "shots = []\n",
    "shots.append(pop(test_df, 8))\n",
    "shots.append(pop(test_df, 10))\n",
    "# shots.append(pop(test_df, 42))\n",
    "# shots.append(pop(test_df, 44))\n",
    "# shots.append(pop(test_df, 56))"
   ]
  },
  {
   "cell_type": "code",
   "execution_count": 20,
   "metadata": {},
   "outputs": [
    {
     "data": {
      "text/plain": [
       "'### Instruction: Summarize the following README contents with LESS THAN 30 words. Your answer should be based on the provided README contents only.\\n        ### For examples:\\n         \\n            ### README contents: \\n            b\\'NUI\\\\n===\\\\n\\\\n\\\\n\\\\n\\\\n\\\\n\\\\nStyle iOS apps with a stylesheet, similar to CSS\\\\n\\\\nDescription\\\\n-----------\\\\nNUI is a drop-in UI kit for iOS that lets you style UI elements using a stylesheet, similar to CSS. It lets you style an entire app in minutes.\\\\n\\\\nOut of the box, the styling looks like this:\\\\n\\\\n\\\\n\\\\nIts easily modified, though. The styling above, for example, is declared . Here are examples of other themes that are defined :\\\\n\\\\n\\\\n\\\\n\\\\n\\\\n\\\\nThe styling is declared using a CSS-like syntax that supports variables:\\\\n\\\\n\\\\n\\\\nNUI lets you:\\\\n\\\\n Update the visual appearance of an entire application in minutes\\\\n Save themes for use in multiple applications\\\\n Set the styles of UI elements using simple rules, like setting \\\\n Define variables like  or  (a la Sass/LESS)\\\\n Avoid digging through documentation to find how to change specific UI elements styling\\\\n Quickly create custom style classes\\\\n Modify an applications styling while it is running\\\\n\\\\nSome exciting features are on the horizon, and contributions are very encouraged. Please see the .\\\\n\\\\nInstallation\\\\n------------\\\\n\\\\n### CocoaPods\\\\n\\\\nNUI is most easily installed using . Its pod name is \"NUI\". After installing it, add  to  in AppDelegate.m (like ).\\\\nWhen installed as a framework, NUI can be natively imported in Swift. Just add\\\\n to the top of your file.\\\\n\\\\n### Without CocoaPods\\\\n\\\\nIf you choose not to use CocoaPods, you can install NUI with these steps:\\\\n\\\\n1. Copy the NUI directory into your application\\\\n2. Add the CoreImage and QuartzCore frameworks to your application if you havent already (like )\\\\n3. Add  as a subproject, set its iOSNUIParse target as a dependency of your target, and add libNUIParse.a to your linked libraries.\\\\n4. Add  to  in AppDelegate.m (like )\\\\n5. To use NUI in Swift add  to your bridging header.\\\\n\\\\nThe Demo uses CocoaPods, so youll want to , run  in the  directory, and then open the .xcworkspace to open the project.\\\\n\\\\nUsage\\\\n-----\\\\n\\\\nHeres a .\\\\n\\\\nAfter dropping in NUI, you can modify your apps styling by simply editing NUIStyle.nss. If you want to avoid modifying NUIs files, you can copy NUIStyle.nss into your app, rename it (e.g. MyTheme.nss), then replace  with  (step 4 in Installation).\\\\n\\\\nDue to the nature of UIKits usage of simple UI components within more complex UI components, NUI doesnt style some UIKit components in some very rare cases. If you ever need to apply styling for these cases, you can simply use NUIRenderer:\\\\n\\\\n\\\\n\\\\nThis will use the Button style. You can also specify a custom class:\\\\n\\\\n\\\\n\\\\nN.B. NUI used to require that you make your elements inherit from a NUI class, but this is no longer the case. See \"Migrating From Subclasses To Categories\" below for details.\\\\n\\\\n### Editing The Style Rules\\\\n\\\\nNUIStyle.nss contains all of the style rules. A rule like  modifies the font name of every UIButton, for example.\\\\n\\\\nThe format should be self-explanatory, but here are some notes:\\\\n\\\\n Styling variables are defined at the top, but they can be added/modified/removed as you see fit.\\\\n You can make an element inherit from multiple style classes (see Creating Custom Style Classes below).\\\\n\\\\nTo see all of the available properties and values, see the Style Classes and Style Value Types lists below.\\\\n\\\\n### Creating Custom Style Classes\\\\n\\\\nYou can give elements custom style classes (e.g. ), and make those classes inherit from one or more other style classes by using the form . To bypass NUIs styling for a particular element, set the class to . You can set an elements style class either in Interface Builder or programmatically: \\\\n\\\\n#### Setting an Elements Style Class in Interface Builder\\\\n\\\\nTo do this, youll set a runtime attribute for the element (in Identity Inspector > User Defined Runtime Attributes, click ). Set the Key Path to , Type to , and Value to  (or :\\\\n\\\\n\\\\n\\\\n#### Setting an Elements Style Class Programmatically\\\\n\\\\nTo do this, youll want to import the NUI category for the element. If youre styling a UIButton, youd import:\\\\n\\\\n\\\\n\\\\nYou can then set  on your element:\\\\n\\\\n\\\\n\\\\nN.B. A style class can inherit from an indefinite number of style rules, so if you want to create groups of style rules, you can set \\\\n\\\\n### Excluding Views from NUIs Styling\\\\n\\\\nIf you want to prevent specific view classes from being styled (e.g. third party UI elements that are already styled), you can specify these in NSS:\\\\n\\\\n\\\\n\\\\n will prevent NUI from applying the  style to views of the specified classes\\\\n*  will prevent NUI from applying the +[NUISettings setGlobalExclusions:][NUISettings init];@\"/path/to/Style.nss\"/Users/myusername/projects/ios/MyApp/Style.nssNUIButtonpageIndicatorTintColorcurrentPageIndicatorTintColortruefalsenonelinebezelroundedpaddingmargin1510 15#FF0000rgb(255,0,0)hsla(0.5, 0, 1.0, 0.5)redyellowclear[UIColor redColor]redsystemboldSystemitalicSystemblackSystemheavySystemlightSystemmediumSystemsemiboldSystemthinSystemultraLightSystem[UIImage imageNamed:name]MyImage.png-14.5-1,1nonesingle-linesingle-line-etchedleftrightcenteruppercaselowercasecapitalizenonetopcenterbottomfilldefaultdarklightalert`)\\\\n\\\\nFAQ\\\\n---\\\\n\\\\n#### How can I contribute?\\\\n\\\\nContributers are extremely appreciated! NUI covers a lot of ground, but there are still a number of elements and properties that are unsupported. Adding support for new properties is easy (take a look at  for examples). There are also a number of exciting big features that on the  that are up for grabs. Were also always looking for new themes, so feel free to add those, too!\\\\n\\\\n#### What advantages does this have over UIAppearance?\\\\n\\\\nUIAppearance is alright, but its unintuitive, time-consuming, and it doesnt support either the granularity or number of style modifications that NUI does. Styling should be abstracted in a simple stylesheet with simple property definitions; you shouldnt have to stare at long, nested method calls and have to dig through Apples documentation every time you want to make a small styling modification.\\\\n\\\\n#### I have an app that uses NUI; can I add a link to it here?\\\\n\\\\nSure! Feel free to add it to .\\\\n\\\\n#### Do you know about Pixate?\\\\n\\\\nYep! Its unclear when it will be launched, it wont be free (in either meaning of the word, likely), and the jury is still out on how good of a product itll be. I prefer free, lightweight solutions.\\\\n\\\\n#### How is \"NUI\" pronounced?\\\\n\\\\n\"New-ee\". (It rhymes with \"GUI\", of course.)\\\\n\\\\nLicense\\\\n-------\\\\n\\\\nNUI is released under the MIT License. Please see the LICENSE file for details.\\\\n\\'\\n            \\n            ### Summary:\\n            Style iOS apps with a stylesheet, similar to CSS            \\n             \\n            ### README contents: \\n            closh - Bash-like shell based on Clojure   Closh combines the best of traditional unix shells with the power of . It aims to be a modern alternative to bash.Demo showing how to execute commands and using Clojure to manipulate outputs in shell:Why try to reinvent bash?Why shell based on Clojure(Script)?Warning: Closh is still in a early stage and under a heavy development, has many rough edges and is subject to change a lot. Closh is tested on Linux, should run on macOS too.Community and ContributionIf you have feedback about a specific feature or found a bug please open an .Use  for general discussion and to share scripts and workflows.Chat room is on  or .If you would like to contribute take look at . Leave a comment if you find anything interesting  and we can improve the project together.InstallWindows proper is currently NOT supported, but it should run under WSL 2. If you know your way around with Windows, we need your help (see ).[ ] in the browser without installing anything.Clojure/JVM versionDownload the jar file from the  and run it with:java -jar closh-zero.jar\\nThe jar file also contains a special header, so once you make it executable you can run it directly:chmod +x closh-zero.jar\\n./closh-zero.jar\\nIt can also run with  CLI:clojure -Sdeps \\'{:deps {closh {:git/url \"https://github.com/dundalek/closh.git\" :tag \"v0.5.0\" :sha \"6a7c0aa293616e2d28f7f735e915a301e44d2121\"}}}\\' -m closh.zero.frontend.rebel\\nClojureScript/Lumo versionInstall closh (requires  version 9.x, support for version 10 is in progress, see ):npm install -g closh\\nIf you get a  then try:npm install -g closh --unsafe-perm\\nTo install development version from master branch:npm i -g dundalek/closh\\nQuick StartStart the shell:closh\\nRun simple commands like you are used to:$ echo hi $ git status $ ls -l *.json\\nCommands starting with a parenthesis are evaluated as Clojure code:$ (+ 1 2)\\n; => 3\\nThe power comes from combining shell commands and Clojure:$ echo hi | (clojure.string/upper-case)\\n; => HI $ ls *.json |> (reverse) ; Count number of files grouped by first letter sorted by highest count first\\n$ ls |> (group-by first) | (map #(update % 1 count)) | (sort-by second) | (reverse)\\nIf you like closh you can set it as your default shell.Be careful and first test closh from other shell to make sure it works on your machine so you don\\'t get locked out of shell (after  you need to log out and log back in for changes to take effect):which closh | sudo tee -a /etc/shells\\nchsh -s $(which closh)\\nFor the JVM version you can make it the default shell similarly like:closh=/path/to/closh-zero.jar\\nchmod +x $closh\\necho $closh | sudo tee -a /etc/shells\\nchsh -s $closh\\nDocumentationRoadmapTerminal UI improvements and explorationExplore innovate UI ideas, explore what a shell could become and all possibilities within an ASCII terminal. The goal is to reimagine what people think a command line interface is without having to lose its core power.More UI explorationExplore if we could take shell power and functionality and lift it from the boundaries set by ASCII terminals.Stabilization and performanceI hope that new UI ideas above will get people excited and interested. After that we should work on stabilization and adding all the remaining features people are used to from traditional shells.LimitationsJVM version (CLJ)Lumo version (CLJS)DevelopmentClone the repo and install dependenciesgit clone git@github.com:dundalek/closh.git\\ncd closh\\nnpm install\\nRun the cljs appnpm start\\nRun the clj appclojure -m closh.zero.frontend.rebel\\nRun tests oncenpm run test\\nRe-run tests on changenpm run test-auto\\nManual Java buildsRun . The resulting binary will be in .SponsorsThank you for the support:MentionsCopyright & LicenseCopyright (c) Jakub Dundalek and contributorsDistributed under the Eclipse Public License 1.0 (same as Clojure).Logo created by  under .\\n            \\n            ### Summary:\\n            Bash-like shell based on Clojure            \\n            ### README contents:\\n        Deep Learning《深度学习》是深度学习领域唯一的综合性图书，全称也叫做深度学习 AI圣经(Deep Learning)，由三位全球知名专家IanGoodfellow、YoshuaBengio、AaronCourville编著，全书囊括了数学及相关概念的背景知识，包括线性代数、概率论、信息论、数值优化以及机器学习中的相关内容。同时，它还介绍了工业界中实践者用到的深度学习技术，包括深度前馈网络、正则化、优化算法、卷积网络、序列建模和实践方法等，并且调研了诸如自然语言处理、语音识别、计算机视觉、在线推荐系统、生物信息学以及视频游戏方面的应用。最后，深度学习全书还提供了一些研究方向，涵盖的理论主题包括线性因子模型、自编码器、表示学习、结构化概率模型、蒙特卡罗方法、配分函数、近似推断以及深度生成模型，适用于相关专业的大学生或研究生使用。可以下载《深度学习》的中文版  和英文版  直接阅读。对于本项目的工作，你可以直接下载  (后面会对该书不断更新)《深度学习》可以说是深度学习与人工智能的入门宝典，许多算法爱好者、机器学习培训班、互联网企业的面试，很多都参考这本书。但本书晦涩，加上官方没有提供代码实现，因此某些地方较难理解。本项目基于数学推导和产生原理重新描述了书中的概念，并用Python (numpy 库为主) 复现了书本内容 ( 源码级代码实现。推导过程和代码实现均放在了下载区的 pdf 文件中，重要部分的实现代码也放入 code 文件夹中 )。然而我水平有限，但我真诚地希望这项工作可以帮助到更多人学习深度学习算法。我需要大家的建议和帮助。如果你在阅读中遇到有误或解释不清的地方，希望可以汇总你的建议，在 Issues 提出。如果你也想加入这项工作书写中或有其他问题，可以联系我的邮箱。如果你在你的工作或博客中用到了本书，还请可以注明引用链接。写的过程中参考了较多网上优秀的工作，所有参考资源保存在了文件中。留言这份工作就是在写这一本 。正如你在 pdf 文件中所见到的，《深度学习》涉及到的每一个概念，都会去给它详细的描述、原理层面的推导，以及用代码的实现。代码实现不会调用 Tensorflow、PyTorch、MXNet 等任何深度学习框架，甚至包括 sklearn (pdf 里用到 sklearn 的部分都是用来验证代码无误)，一切代码都是从原理层面实现 (Python 的基础库 NumPy)，并有详细注释，与代码区上方的原理描述区一致，你可以结合原理和代码一起理解。这份工作的起因是我自身的热爱，但为完成这份工作我需要投入大量的时间精力，一般会写到凌晨两三点。推导、代码、作图都是慢慢打磨的，我会保证这份工作的质量。这份工作会一直更新完，已经上传的章节也会继续补充内容。如果你在阅读过程中遇到有想要描述的概念点或者错误点，请发邮件告知我。真的很感谢你的认可与推广。最后，请等待下一次更新。我是 朱明超，我的邮箱是：deityrayleigh@gmail.com更新说明2020/3/：1. 修改第五章决策树部分，补充 ID3 和 CART 的原理，代码实现以 CART 为主。\\n2. 第七章添加 L1 和 L2 正则化最优解的推导 (即 L1稀疏解的原理)。\\n3. 第七章添加集成学习方法的推导与代码实现，包括 Bagging (随机森林)、Boosting (Adaboost、GBDT、XGBoost)。\\n4. 第八章添加牛顿法与拟牛顿法 (DFP、BFGS、L-BFGS) 的推导。\\n5. 第十一章节添加贝叶斯线性回归、高斯过程回归 (GPR) 与贝叶斯优化的推导与代码实现。\\n后面每次的更新内容会统一放在  文件中。章节目录与文件下载除了《深度学习》书中的概念点，本项目也在各章节添加一些补充知识，例如第七章集成学习部分的 随机森林、Adaboost、GBDT、XGBoost 的原理剖析和代码实现等，又或者第十二章对当前一些主流方法的描述。大的章节目录和 pdf 文件下载链接可以详见下表，而具体 pdf 文件中的实际目录请参考 。你可以在下面的 pdf 链接中下载对应章节，也可以在  界面直接下载所有文件。| 中文章节 | 英文章节 | 下载(含推导与代码实现) || ------------ | ------------ | ------------ || 第一章 前言 | 1 Introduction |  || 第二章 线性代数 | 2 Linear Algebra |  || 第三章 概率与信息论                 | 3 Probability and Information Theory |  || 第四章 数值计算                     | 4 Numerical Computation |  || 第五章 机器学习基础                 | 5 Machine Learning Basics |  || 第六章 深度前馈网络                 | 6 Deep Feedforward Networks |  || 第七章 深度学习中的正则化           | 7 Regularization for Deep Learning |  || 第八章 深度模型中的优化 | 8 Optimization for Training Deep Models |  || 第九章 卷积网络 | 9 Convolutional Networks |  || 第十章 序列建模：循环和递归网络 | 10 Sequence Modeling: Recurrent and Recursive Nets |  || 第十一章 实践方法论                 | 11 Practical Methodology |  || 第十二章 应用 | 12 Applications |  || 第十三章 线性因子模型 | 13 Linear Factor Models |  || 第十四章 自编码器                   | 14 Autoencoders |  || 第十五章 表示学习                   | 15 Representation Learning |  || 第十六章 深度学习中的结构化概率模型 | 16 Structured Probabilistic Models for Deep Learning |  || 第十七章 蒙特卡罗方法 | 17 Monte Carlo Methods |  || 第十八章 直面配分函数 | 18 Confronting the Partition Function |  || 第十九章 近似推断                   | 19 Approximate Inference |  || 第二十章 深度生成模型 | 20 Deep Generative Models |  |尚未上传的章节会在后续陆续上传。致谢感谢对本项目的认可和推广。赞助本项目书写耗费时间精力。如果本项目对你有帮助，可以请作者吃份冰淇淋：\\n\\n        ### Summary:'"
      ]
     },
     "execution_count": 20,
     "metadata": {},
     "output_type": "execute_result"
    }
   ],
   "source": [
    "readme = test_df['readme'][0]\n",
    "generate_testing_prompt(readme, shots)"
   ]
  }
 ],
 "metadata": {
  "kernelspec": {
   "display_name": "readsum",
   "language": "python",
   "name": "python3"
  },
  "language_info": {
   "codemirror_mode": {
    "name": "ipython",
    "version": 3
   },
   "file_extension": ".py",
   "mimetype": "text/x-python",
   "name": "python",
   "nbconvert_exporter": "python",
   "pygments_lexer": "ipython3",
   "version": "3.9.18"
  }
 },
 "nbformat": 4,
 "nbformat_minor": 2
}
